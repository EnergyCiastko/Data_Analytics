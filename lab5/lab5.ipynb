{
 "cells": [
  {
   "attachments": {},
   "cell_type": "markdown",
   "metadata": {},
   "source": [
    "# Lab 5 - Kamil Pieprzycki 402037"
   ]
  },
  {
   "cell_type": "code",
   "execution_count": 1,
   "metadata": {},
   "outputs": [
    {
     "name": "stderr",
     "output_type": "stream",
     "text": [
      "/usr/local/lib/python3.9/site-packages/tqdm/auto.py:22: TqdmWarning: IProgress not found. Please update jupyter and ipywidgets. See https://ipywidgets.readthedocs.io/en/stable/user_install.html\n",
      "  from .autonotebook import tqdm as notebook_tqdm\n"
     ]
    }
   ],
   "source": [
    "from cmdstanpy import CmdStanModel\n",
    "\n",
    "\n",
    "import arviz as az\n",
    "import numpy as np\n",
    "import scipy.stats as stats\n",
    "import seaborn as sns\n",
    "import matplotlib.pyplot as plt\n",
    "import pandas as pd"
   ]
  },
  {
   "cell_type": "code",
   "execution_count": 2,
   "metadata": {},
   "outputs": [
    {
     "data": {
      "text/html": [
       "<div>\n",
       "<style scoped>\n",
       "    .dataframe tbody tr th:only-of-type {\n",
       "        vertical-align: middle;\n",
       "    }\n",
       "\n",
       "    .dataframe tbody tr th {\n",
       "        vertical-align: top;\n",
       "    }\n",
       "\n",
       "    .dataframe thead th {\n",
       "        text-align: right;\n",
       "    }\n",
       "</style>\n",
       "<table border=\"1\" class=\"dataframe\">\n",
       "  <thead>\n",
       "    <tr style=\"text-align: right;\">\n",
       "      <th></th>\n",
       "      <th>Year</th>\n",
       "      <th>Fatal accidents</th>\n",
       "      <th>Passenger deaths</th>\n",
       "      <th>Miles flown [100 mln miles]</th>\n",
       "    </tr>\n",
       "  </thead>\n",
       "  <tbody>\n",
       "    <tr>\n",
       "      <th>0</th>\n",
       "      <td>1976</td>\n",
       "      <td>24</td>\n",
       "      <td>734</td>\n",
       "      <td>3863.0</td>\n",
       "    </tr>\n",
       "    <tr>\n",
       "      <th>1</th>\n",
       "      <td>1977</td>\n",
       "      <td>25</td>\n",
       "      <td>516</td>\n",
       "      <td>4300.0</td>\n",
       "    </tr>\n",
       "    <tr>\n",
       "      <th>2</th>\n",
       "      <td>1978</td>\n",
       "      <td>31</td>\n",
       "      <td>754</td>\n",
       "      <td>5027.0</td>\n",
       "    </tr>\n",
       "    <tr>\n",
       "      <th>3</th>\n",
       "      <td>1979</td>\n",
       "      <td>31</td>\n",
       "      <td>877</td>\n",
       "      <td>5481.0</td>\n",
       "    </tr>\n",
       "    <tr>\n",
       "      <th>4</th>\n",
       "      <td>1980</td>\n",
       "      <td>22</td>\n",
       "      <td>814</td>\n",
       "      <td>5814.0</td>\n",
       "    </tr>\n",
       "    <tr>\n",
       "      <th>5</th>\n",
       "      <td>1981</td>\n",
       "      <td>21</td>\n",
       "      <td>362</td>\n",
       "      <td>6033.0</td>\n",
       "    </tr>\n",
       "    <tr>\n",
       "      <th>6</th>\n",
       "      <td>1982</td>\n",
       "      <td>26</td>\n",
       "      <td>764</td>\n",
       "      <td>5877.0</td>\n",
       "    </tr>\n",
       "    <tr>\n",
       "      <th>7</th>\n",
       "      <td>1983</td>\n",
       "      <td>20</td>\n",
       "      <td>809</td>\n",
       "      <td>6223.0</td>\n",
       "    </tr>\n",
       "    <tr>\n",
       "      <th>8</th>\n",
       "      <td>1984</td>\n",
       "      <td>16</td>\n",
       "      <td>223</td>\n",
       "      <td>7433.0</td>\n",
       "    </tr>\n",
       "    <tr>\n",
       "      <th>9</th>\n",
       "      <td>1985</td>\n",
       "      <td>22</td>\n",
       "      <td>1066</td>\n",
       "      <td>7107.0</td>\n",
       "    </tr>\n",
       "  </tbody>\n",
       "</table>\n",
       "</div>"
      ],
      "text/plain": [
       "   Year  Fatal accidents  Passenger deaths  Miles flown [100 mln miles]\n",
       "0  1976               24               734                       3863.0\n",
       "1  1977               25               516                       4300.0\n",
       "2  1978               31               754                       5027.0\n",
       "3  1979               31               877                       5481.0\n",
       "4  1980               22               814                       5814.0\n",
       "5  1981               21               362                       6033.0\n",
       "6  1982               26               764                       5877.0\n",
       "7  1983               20               809                       6223.0\n",
       "8  1984               16               223                       7433.0\n",
       "9  1985               22              1066                       7107.0"
      ]
     },
     "execution_count": 2,
     "metadata": {},
     "output_type": "execute_result"
    }
   ],
   "source": [
    "_BASE_URL = \"https://raw.githubusercontent.com/KAIR-ISZ/lectures/main/Data%20Analytics/Lab%205\"\n",
    "HOWELL_DATASET_PATH = f\"{_BASE_URL}/Airline_data.csv\"\n",
    "d = pd.read_csv(HOWELL_DATASET_PATH)\n",
    "\n",
    "d\n",
    "# print(d)"
   ]
  },
  {
   "cell_type": "code",
   "execution_count": 3,
   "metadata": {},
   "outputs": [
    {
     "data": {
      "text/html": [
       "<div>\n",
       "<style scoped>\n",
       "    .dataframe tbody tr th:only-of-type {\n",
       "        vertical-align: middle;\n",
       "    }\n",
       "\n",
       "    .dataframe tbody tr th {\n",
       "        vertical-align: top;\n",
       "    }\n",
       "\n",
       "    .dataframe thead th {\n",
       "        text-align: right;\n",
       "    }\n",
       "</style>\n",
       "<table border=\"1\" class=\"dataframe\">\n",
       "  <thead>\n",
       "    <tr style=\"text-align: right;\">\n",
       "      <th></th>\n",
       "      <th>Year</th>\n",
       "      <th>Fatal accidents</th>\n",
       "      <th>Passenger deaths</th>\n",
       "      <th>Miles flown [10e12 miles]</th>\n",
       "    </tr>\n",
       "  </thead>\n",
       "  <tbody>\n",
       "    <tr>\n",
       "      <th>0</th>\n",
       "      <td>1976</td>\n",
       "      <td>24</td>\n",
       "      <td>734</td>\n",
       "      <td>3.863</td>\n",
       "    </tr>\n",
       "    <tr>\n",
       "      <th>1</th>\n",
       "      <td>1977</td>\n",
       "      <td>25</td>\n",
       "      <td>516</td>\n",
       "      <td>4.300</td>\n",
       "    </tr>\n",
       "    <tr>\n",
       "      <th>2</th>\n",
       "      <td>1978</td>\n",
       "      <td>31</td>\n",
       "      <td>754</td>\n",
       "      <td>5.027</td>\n",
       "    </tr>\n",
       "    <tr>\n",
       "      <th>3</th>\n",
       "      <td>1979</td>\n",
       "      <td>31</td>\n",
       "      <td>877</td>\n",
       "      <td>5.481</td>\n",
       "    </tr>\n",
       "    <tr>\n",
       "      <th>4</th>\n",
       "      <td>1980</td>\n",
       "      <td>22</td>\n",
       "      <td>814</td>\n",
       "      <td>5.814</td>\n",
       "    </tr>\n",
       "    <tr>\n",
       "      <th>5</th>\n",
       "      <td>1981</td>\n",
       "      <td>21</td>\n",
       "      <td>362</td>\n",
       "      <td>6.033</td>\n",
       "    </tr>\n",
       "    <tr>\n",
       "      <th>6</th>\n",
       "      <td>1982</td>\n",
       "      <td>26</td>\n",
       "      <td>764</td>\n",
       "      <td>5.877</td>\n",
       "    </tr>\n",
       "    <tr>\n",
       "      <th>7</th>\n",
       "      <td>1983</td>\n",
       "      <td>20</td>\n",
       "      <td>809</td>\n",
       "      <td>6.223</td>\n",
       "    </tr>\n",
       "    <tr>\n",
       "      <th>8</th>\n",
       "      <td>1984</td>\n",
       "      <td>16</td>\n",
       "      <td>223</td>\n",
       "      <td>7.433</td>\n",
       "    </tr>\n",
       "    <tr>\n",
       "      <th>9</th>\n",
       "      <td>1985</td>\n",
       "      <td>22</td>\n",
       "      <td>1066</td>\n",
       "      <td>7.107</td>\n",
       "    </tr>\n",
       "  </tbody>\n",
       "</table>\n",
       "</div>"
      ],
      "text/plain": [
       "   Year  Fatal accidents  Passenger deaths  Miles flown [10e12 miles]\n",
       "0  1976               24               734                      3.863\n",
       "1  1977               25               516                      4.300\n",
       "2  1978               31               754                      5.027\n",
       "3  1979               31               877                      5.481\n",
       "4  1980               22               814                      5.814\n",
       "5  1981               21               362                      6.033\n",
       "6  1982               26               764                      5.877\n",
       "7  1983               20               809                      6.223\n",
       "8  1984               16               223                      7.433\n",
       "9  1985               22              1066                      7.107"
      ]
     },
     "execution_count": 3,
     "metadata": {},
     "output_type": "execute_result"
    }
   ],
   "source": [
    "d['Miles flown [100 mln miles]'] /= 1000\n",
    "d.rename(columns={'Miles flown [100 mln miles]': 'Miles flown [10e12 miles]'}, inplace=True)\n",
    "d"
   ]
  },
  {
   "cell_type": "code",
   "execution_count": 4,
   "metadata": {},
   "outputs": [
    {
     "name": "stderr",
     "output_type": "stream",
     "text": [
      "INFO:cmdstanpy:compiling stan file /home/lab5/model.stan to exe file /home/lab5/model\n",
      "INFO:cmdstanpy:compiled model executable: /home/lab5/model\n",
      "WARNING:cmdstanpy:Stan compiler has produced 2 warnings:\n",
      "WARNING:cmdstanpy:\n",
      "--- Translating Stan model to C++ code ---\n",
      "bin/stanc  --o=/home/lab5/model.hpp /home/lab5/model.stan\n",
      "Warning in '/home/lab5/model.stan', line 3, column 2: Declaration of arrays\n",
      "    by placing brackets after a variable name is deprecated and will be\n",
      "    removed in Stan 2.32.0. Instead use the array keyword before the type.\n",
      "    This can be changed automatically using the auto-format flag to stanc\n",
      "Warning in '/home/lab5/model.stan', line 20, column 2: Declaration of arrays\n",
      "    by placing brackets after a variable name is deprecated and will be\n",
      "    removed in Stan 2.32.0. Instead use the array keyword before the type.\n",
      "    This can be changed automatically using the auto-format flag to stanc\n",
      "\n",
      "--- Compiling, linking C++ code ---\n",
      "g++ -std=c++1y -pthread -D_REENTRANT -Wno-sign-compare -Wno-ignored-attributes      -I stan/lib/stan_math/lib/tbb_2020.3/include    -O3 -I src -I stan/src -I lib/rapidjson_1.1.0/ -I lib/CLI11-1.9.1/ -I stan/lib/stan_math/ -I stan/lib/stan_math/lib/eigen_3.3.9 -I stan/lib/stan_math/lib/boost_1.75.0 -I stan/lib/stan_math/lib/sundials_6.0.0/include -I stan/lib/stan_math/lib/sundials_6.0.0/src/sundials    -DBOOST_DISABLE_ASSERTS          -c -Wno-ignored-attributes   -x c++ -o /home/lab5/model.o /home/lab5/model.hpp\n",
      "g++ -std=c++1y -pthread -D_REENTRANT -Wno-sign-compare -Wno-ignored-attributes      -I stan/lib/stan_math/lib/tbb_2020.3/include    -O3 -I src -I stan/src -I lib/rapidjson_1.1.0/ -I lib/CLI11-1.9.1/ -I stan/lib/stan_math/ -I stan/lib/stan_math/lib/eigen_3.3.9 -I stan/lib/stan_math/lib/boost_1.75.0 -I stan/lib/stan_math/lib/sundials_6.0.0/include -I stan/lib/stan_math/lib/sundials_6.0.0/src/sundials    -DBOOST_DISABLE_ASSERTS                -Wl,-L,\"/opt/cmdstan-2.29.0/stan/lib/stan_math/lib/tbb\" -Wl,-rpath,\"/opt/cmdstan-2.29.0/stan/lib/stan_math/lib/tbb\"      /home/lab5/model.o src/cmdstan/main.o        -Wl,-L,\"/opt/cmdstan-2.29.0/stan/lib/stan_math/lib/tbb\" -Wl,-rpath,\"/opt/cmdstan-2.29.0/stan/lib/stan_math/lib/tbb\"   stan/lib/stan_math/lib/sundials_6.0.0/lib/libsundials_nvecserial.a stan/lib/stan_math/lib/sundials_6.0.0/lib/libsundials_cvodes.a stan/lib/stan_math/lib/sundials_6.0.0/lib/libsundials_idas.a stan/lib/stan_math/lib/sundials_6.0.0/lib/libsundials_kinsol.a  stan/lib/stan_math/lib/tbb/libtbb.so.2 -o /home/lab5/model\n",
      "rm -f /home/lab5/model.o\n",
      "\n"
     ]
    }
   ],
   "source": [
    "model1=CmdStanModel(stan_file='model.stan')"
   ]
  },
  {
   "cell_type": "code",
   "execution_count": 15,
   "metadata": {},
   "outputs": [
    {
     "name": "stderr",
     "output_type": "stream",
     "text": [
      "INFO:cmdstanpy:CmdStan start processing\n",
      "chain 1 |\u001b[33m          \u001b[0m| 00:00 Status\n",
      "\u001b[A\n",
      "\n",
      "\u001b[A\u001b[A\n",
      "chain 1 |\u001b[33m▍         \u001b[0m| 00:00 Status\n",
      "\n",
      "\u001b[A\u001b[A\n",
      "chain 1 |\u001b[34m█████▉    \u001b[0m| 00:00 Iteration: 1001 / 2000 [ 50%]  (Sampling)\n",
      "\n",
      "\u001b[A\u001b[A\n",
      "chain 1 |\u001b[34m████████▏ \u001b[0m| 00:00 Iteration: 1500 / 2000 [ 75%]  (Sampling)\n",
      "\n",
      "\u001b[A\u001b[A\n",
      "\u001b[A\n",
      "\n",
      "chain 1 |\u001b[34m██████████\u001b[0m| 00:01 Sampling completed                       \n",
      "chain 2 |\u001b[34m██████████\u001b[0m| 00:01 Sampling completed                       \n",
      "chain 3 |\u001b[34m██████████\u001b[0m| 00:01 Sampling completed                       \n",
      "chain 4 |\u001b[34m██████████\u001b[0m| 00:01 Sampling completed                       "
     ]
    },
    {
     "name": "stdout",
     "output_type": "stream",
     "text": [
      "                                                                                                                                                                                                                                                                                                                                "
     ]
    },
    {
     "name": "stderr",
     "output_type": "stream",
     "text": [
      "\n",
      "INFO:cmdstanpy:CmdStan done processing.\n"
     ]
    },
    {
     "name": "stdout",
     "output_type": "stream",
     "text": [
      "\n"
     ]
    }
   ],
   "source": [
    "\n",
    "fit = model1.sample(data={'N': len(d), 'y': d['Fatal accidents'].values, 'n': d['Miles flown [10e12 miles]'].values}, output_dir='output', seed=402037)"
   ]
  },
  {
   "cell_type": "code",
   "execution_count": 16,
   "metadata": {},
   "outputs": [
    {
     "name": "stdout",
     "output_type": "stream",
     "text": [
      "      lp__  accept_stat__  stepsize__  treedepth__  n_leapfrog__  divergent__  \\\n",
      "0  512.986       0.828945    0.099517          2.0           7.0          0.0   \n",
      "1  512.692       0.793451    0.099517          2.0           7.0          0.0   \n",
      "2  513.621       0.982118    0.099517          2.0           3.0          0.0   \n",
      "3  513.621       0.879087    0.099517          2.0           3.0          0.0   \n",
      "4  515.213       0.753493    0.099517          4.0          23.0          0.0   \n",
      "\n",
      "   energy__    alpha     theta  lambda[1]  lambda[2]  lambda[3]  lambda[4]  \\\n",
      "0  -512.359  2.42904  0.375131    18.8405    19.6134    20.7971    21.4827   \n",
      "1  -511.035  2.48080  0.441297    21.6973    22.7482    24.3716    25.3195   \n",
      "2  -512.677  2.44171  0.405937    19.8919    20.7764    22.1365    22.9272   \n",
      "3  -513.017  2.44171  0.405937    19.8919    20.7764    22.1365    22.9272   \n",
      "4  -509.833  3.49394 -0.261570    23.1141    22.4751    21.5753    21.0928   \n",
      "\n",
      "   lambda[5]  lambda[6]  lambda[7]  lambda[8]  lambda[9]  lambda[10]  \n",
      "0    21.9633    22.2701    22.0523    22.5306    24.0835     23.6817  \n",
      "1    25.9872    26.4147    26.1111    26.7786    28.9628     28.3952  \n",
      "2    23.4828    23.8379    23.5858    24.1399    25.9453     25.4772  \n",
      "3    23.4828    23.8379    23.5858    24.1399    25.9453     25.4772  \n",
      "4    20.7699    20.5700    20.7114    20.4038    19.4773     19.7071  \n"
     ]
    },
    {
     "data": {
      "image/png": "[encoded data removed]",
      "text/plain": [
       "<Figure size 720x360 with 2 Axes>"
      ]
     },
     "metadata": {
      "needs_background": "light"
     },
     "output_type": "display_data"
    }
   ],
   "source": [
    "print(fit.draws_pd().head())\n",
    "# Plot posterior distributions of alpha and theta\n",
    "fig, axes = plt.subplots(ncols=2, figsize=(10, 5))\n",
    "sns.histplot(fit.draws_pd()['alpha'], kde=True, ax=axes[0])\n",
    "sns.histplot(fit.draws_pd()['theta'], kde=True, ax=axes[1])\n",
    "axes[0].set_xlabel('alpha')\n",
    "axes[1].set_xlabel('theta')\n",
    "plt.show()"
   ]
  },
  {
   "cell_type": "code",
   "execution_count": 17,
   "metadata": {},
   "outputs": [
    {
     "name": "stderr",
     "output_type": "stream",
     "text": [
      "INFO:cmdstanpy:found newer exe file, not recompiling\n",
      "INFO:cmdstanpy:CmdStan start processing\n",
      "chain 1 |\u001b[33m          \u001b[0m| 00:00 Status\n",
      "\u001b[A\n",
      "\n",
      "chain 1 |\u001b[33m█▎        \u001b[0m| 00:00 Iteration:  100 / 2000 [  5%]  (Warmup)\n",
      "\u001b[A\n",
      "\n",
      "chain 1 |\u001b[34m████████▋ \u001b[0m| 00:00 Iteration: 1600 / 2000 [ 80%]  (Sampling)\n",
      "\u001b[A\n",
      "\n",
      "chain 1 |\u001b[34m██████████\u001b[0m| 00:00 Sampling completed                       \n",
      "chain 2 |\u001b[34m██████████\u001b[0m| 00:00 Sampling completed                       \n",
      "chain 3 |\u001b[34m██████████\u001b[0m| 00:00 Sampling completed                       \n",
      "chain 4 |\u001b[34m██████████\u001b[0m| 00:00 Sampling completed                       "
     ]
    },
    {
     "name": "stdout",
     "output_type": "stream",
     "text": [
      "                                                                                                                                                                                                                                                                                                                                "
     ]
    },
    {
     "name": "stderr",
     "output_type": "stream",
     "text": [
      "\n",
      "INFO:cmdstanpy:CmdStan done processing.\n"
     ]
    },
    {
     "name": "stdout",
     "output_type": "stream",
     "text": [
      "\n",
      "              Mean   MCSE  StdDev      5%     50%     95%   N_Eff  N_Eff/s  \\\n",
      "name                                                                         \n",
      "lp__        520.00  0.031    0.92  510.00  520.00  520.00   900.0   2400.0   \n",
      "alpha         3.90  0.021    0.53    3.00    4.00    4.80   640.0   1700.0   \n",
      "theta        -0.45  0.012    0.31   -0.94   -0.46    0.07   650.0   1700.0   \n",
      "lambda[1]    28.00  0.130    3.60   23.00   28.00   34.00   775.0   2084.0   \n",
      "lambda[2]    27.00  0.089    2.70   23.00   27.00   31.00   908.0   2441.0   \n",
      "lambda[3]    25.00  0.040    1.80   22.00   25.00   28.00  1927.0   5179.0   \n",
      "lambda[4]    24.00  0.025    1.50   21.00   24.00   26.00  3772.0  10140.0   \n",
      "lambda[5]    23.00  0.026    1.60   21.00   23.00   26.00  3504.0   9420.0   \n",
      "lambda[6]    23.00  0.030    1.60   20.00   23.00   26.00  2854.0   7673.0   \n",
      "lambda[7]    23.00  0.027    1.60   21.00   23.00   26.00  3324.0   8935.0   \n",
      "lambda[8]    23.00  0.035    1.70   20.00   23.00   25.00  2283.0   6137.0   \n",
      "lambda[9]    21.00  0.076    2.40   17.00   21.00   25.00   973.0   2616.0   \n",
      "lambda[10]   21.00  0.066    2.20   18.00   21.00   25.00  1085.0   2916.0   \n",
      "\n",
      "            R_hat  \n",
      "name               \n",
      "lp__          1.0  \n",
      "alpha         1.0  \n",
      "theta         1.0  \n",
      "lambda[1]     1.0  \n",
      "lambda[2]     1.0  \n",
      "lambda[3]     1.0  \n",
      "lambda[4]     1.0  \n",
      "lambda[5]     1.0  \n",
      "lambda[6]     1.0  \n",
      "lambda[7]     1.0  \n",
      "lambda[8]     1.0  \n",
      "lambda[9]     1.0  \n",
      "lambda[10]    1.0  \n"
     ]
    }
   ],
   "source": [
    "# Compile the model\n",
    "poisson_model = CmdStanModel(stan_file='model.stan')\n",
    "\n",
    "# Set up the data dictionary\n",
    "N = len(d)\n",
    "data = {'N': N, 'y': d['Fatal accidents'].values, 'n': d['Miles flown [10e12 miles]'].values}\n",
    "\n",
    "# Fit the model to the data\n",
    "fit = poisson_model.sample(data=data, chains=4)\n",
    "\n",
    "# Print summary statistics for the posterior samples\n",
    "print(fit.summary())"
   ]
  },
  {
   "cell_type": "code",
   "execution_count": 18,
   "metadata": {},
   "outputs": [
    {
     "data": {
      "image/png": "[encoded data removed]",
      "text/plain": [
       "<Figure size 720x432 with 1 Axes>"
      ]
     },
     "metadata": {
      "needs_background": "light"
     },
     "output_type": "display_data"
    },
    {
     "name": "stderr",
     "output_type": "stream",
     "text": [
      "INFO:cmdstanpy:CmdStan start processing\n",
      "chain 1 |\u001b[33m          \u001b[0m| 00:00 Status\n",
      "\u001b[A\n",
      "\n",
      "chain 1 |\u001b[33m█▊        \u001b[0m| 00:00 Iteration:  200 / 2000 [ 10%]  (Warmup)\n",
      "\u001b[A\n",
      "\n",
      "chain 1 |\u001b[34m███████▋  \u001b[0m| 00:00 Iteration: 1400 / 2000 [ 70%]  (Sampling)\n",
      "\u001b[A\n",
      "\n",
      "chain 1 |\u001b[34m██████████\u001b[0m| 00:00 Sampling completed                       \n",
      "chain 2 |\u001b[34m██████████\u001b[0m| 00:00 Sampling completed                       \n",
      "chain 3 |\u001b[34m██████████\u001b[0m| 00:00 Sampling completed                       \n",
      "chain 4 |\u001b[34m██████████\u001b[0m| 00:00 Sampling completed                       "
     ]
    },
    {
     "name": "stdout",
     "output_type": "stream",
     "text": [
      "                                                                                                                                                                                                                                                                                                                                "
     ]
    },
    {
     "name": "stderr",
     "output_type": "stream",
     "text": [
      "\n",
      "INFO:cmdstanpy:CmdStan done processing.\n"
     ]
    },
    {
     "name": "stdout",
     "output_type": "stream",
     "text": [
      "\n"
     ]
    },
    {
     "data": {
      "image/png": "[encoded data removed]",
      "text/plain": [
       "<Figure size 1440x720 with 10 Axes>"
      ]
     },
     "metadata": {
      "needs_background": "light"
     },
     "output_type": "display_data"
    }
   ],
   "source": [
    "import seaborn as sns\n",
    "# Plot the prior predictive distribution\n",
    "fig, ax = plt.subplots(figsize=(10, 6))\n",
    "sns.histplot(fit.draws_pd().loc[:, 'lambda[1]':'lambda[10]'].values, stat='density', ax=ax)\n",
    "ax.set_xlabel('lambda')\n",
    "ax.set_title('Prior Predictive Distribution')\n",
    "plt.show()\n",
    "\n",
    "# Fit the model to data\n",
    "stan_data = {'N': len(d['Fatal accidents']), 'y': d['Fatal accidents'].values, 'n': d['Miles flown [10e12 miles]'].values}\n",
    "fit = poisson_model.sample(data=stan_data)\n",
    "\n",
    "# Posterior predictive analysis\n",
    "posterior_pred = fit.stan_variables()['lambda']\n",
    "\n",
    "# Compare histograms of accidents for entire period and for each year\n",
    "fig, axes = plt.subplots(2, 5, figsize=(20, 10))\n",
    "axes = axes.flatten()\n",
    "for i, year in enumerate(d['Year']):\n",
    "    sns.histplot(d[d['Year'] == year]['Fatal accidents'], bins=15, stat='density', ax=axes[i])\n",
    "    sns.histplot(posterior_pred[:, i], bins=15, stat='density', ax=axes[i])\n",
    "    axes[i].set_xlabel('Fatal accidents')\n",
    "    axes[i].set_title(f'Year {year}')\n",
    "    axes[i].set_ylim(0, 1)\n",
    "    \n",
    "plt.tight_layout()\n",
    "plt.show()"
   ]
  }
 ],
 "metadata": {
  "kernelspec": {
   "display_name": "Python 3",
   "language": "python",
   "name": "python3"
  },
  "language_info": {
   "codemirror_mode": {
    "name": "ipython",
    "version": 3
   },
   "file_extension": ".py",
   "mimetype": "text/x-python",
   "name": "python",
   "nbconvert_exporter": "python",
   "pygments_lexer": "ipython3",
   "version": "3.9.11"
  },
  "orig_nbformat": 4
 },
 "nbformat": 4,
 "nbformat_minor": 2
}
